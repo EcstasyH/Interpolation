{
 "cells": [
  {
   "cell_type": "code",
   "execution_count": null,
   "id": "6c70f220-1b78-4e60-8800-f55e1b19eabd",
   "metadata": {},
   "outputs": [],
   "source": [
    "1+1"
   ]
  },
  {
   "cell_type": "code",
   "execution_count": null,
   "id": "8adb72e8-4a42-41b9-9035-495a34c3e9b6",
   "metadata": {},
   "outputs": [],
   "source": []
  }
 ],
 "metadata": {
  "kernelspec": {
   "display_name": "Julia 1.9.4",
   "language": "julia",
   "name": "julia-1.9"
  },
  "language_info": {
   "name": ""
  }
 },
 "nbformat": 4,
 "nbformat_minor": 5
}
