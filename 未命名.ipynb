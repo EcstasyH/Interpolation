{
 "cells": [
  {
   "cell_type": "code",
   "execution_count": 8,
   "id": "4b021956",
   "metadata": {},
   "outputs": [
    {
     "data": {
      "text/plain": [
       "false"
      ]
     },
     "execution_count": 8,
     "metadata": {},
     "output_type": "execute_result"
    }
   ],
   "source": [
    "using DynamicPolynomials\n",
    "using SumOfSquares\n",
    "using MosekTools\n",
    "@polyvar x y\n",
    "motzkin = x^4*y^2 + x^2*y^4 + 2 - 3x^2*y^2\n",
    "\n",
    "solver = optimizer_with_attributes(Mosek.Optimizer, MOI.Silent() => true)\n",
    "model = SOSModel(solver)\n",
    "@constraint(model, motzkin >= 0) # We constraint `motzkin` to be a sum of squares\n",
    "\n",
    "optimize!(model)\n",
    "JuMP.has_values(model)"
   ]
  },
  {
   "cell_type": "code",
   "execution_count": 11,
   "id": "8f8f2e26",
   "metadata": {},
   "outputs": [
    {
     "data": {
      "text/plain": [
       "true"
      ]
     },
     "execution_count": 11,
     "metadata": {},
     "output_type": "execute_result"
    }
   ],
   "source": [
    "@polyvar x y x0\n",
    "motzkin = x^4*y^2 + x^2*y^4 + 2*x0^6 - 3x^2*y^2*x0^2\n",
    "\n",
    "model = SOSModel(solver)\n",
    "@constraint(model, motzkin >= 0, domain = intersect(@set(x0>=0),@set(1-x0^2-x^2-y^2>=0),@set(1-x0^2-x^2-y^2<=0))) \n",
    "optimize!(model)\n",
    "JuMP.has_values(model)\n"
   ]
  },
  {
   "cell_type": "code",
   "execution_count": 17,
   "id": "b164ebb0",
   "metadata": {},
   "outputs": [
    {
     "data": {
      "text/plain": [
       "true"
      ]
     },
     "execution_count": 17,
     "metadata": {},
     "output_type": "execute_result"
    }
   ],
   "source": [
    "@polyvar x y x0\n",
    "motzkin_h = x^4*y^2 + x^2*y^4 + 2*x0^6 - 3x^2*y^2*x0^2\n",
    "\n",
    "model = SOSModel(solver)\n",
    "\n",
    "monos = monomials([x,y,x0], 0:9)\n",
    "\n",
    "@variable(model, s0, Poly(monos))\n",
    "@variable(model, s1, Poly(monos))\n",
    "@constraint(model, motzkin_h >= s0*x0+s1*(1-x0^2-x^2-y^2) )\n",
    "@constraint(model, s0>=0 )\n",
    "    \n",
    "optimize!(model)\n",
    "JuMP.has_values(model)\n"
   ]
  },
  {
   "cell_type": "code",
   "execution_count": null,
   "id": "cfa400fa",
   "metadata": {},
   "outputs": [],
   "source": []
  }
 ],
 "metadata": {
  "kernelspec": {
   "display_name": "Julia 1.9.4",
   "language": "julia",
   "name": "julia-1.9"
  },
  "language_info": {
   "file_extension": ".jl",
   "mimetype": "application/julia",
   "name": "julia",
   "version": "1.9.4"
  }
 },
 "nbformat": 4,
 "nbformat_minor": 5
}
