{
 "cells": [
  {
   "cell_type": "code",
   "execution_count": 1,
   "id": "77d81897",
   "metadata": {},
   "outputs": [
    {
     "name": "stderr",
     "output_type": "stream",
     "text": [
      "\u001b[32m\u001b[1m  Activating\u001b[22m\u001b[39m project at `~/Documents/code/Interpolation`\n"
     ]
    },
    {
     "data": {
      "text/plain": [
       "interpolation_homo (generic function with 1 method)"
      ]
     },
     "metadata": {},
     "output_type": "display_data"
    }
   ],
   "source": [
    "using Pkg\n",
    "Pkg.activate(\".\")\n",
    "\n",
    "using JuMP\n",
    "using MosekTools\n",
    "using DynamicPolynomials\n",
    "using MultivariatePolynomials\n",
    "using TSSOS\n",
    "\n",
    "# Parameters \n",
    "ϵ = 10^(-5)\n",
    "d_relax = 2 \n",
    "\n",
    "@polyvar x0\n",
    "\n",
    "function interpolation(deg)\n",
    "    # synthesize Craig interpolation using the standard Putinar theorem\n",
    "    # deg: degree of interpolation template, h(x,y)\n",
    "    \n",
    "    model = Model(optimizer_with_attributes(Mosek.Optimizer))\n",
    "    set_optimizer_attribute(model, MOI.Silent(), true)\n",
    "    \n",
    "    h,hc,hb = add_poly!(model, xvars, deg)\n",
    "    \n",
    "    # just avoid bugs when yvars is empty\n",
    "    if length(yvars)==0\n",
    "        phivars = xvars\n",
    "    else\n",
    "        phivars = [xvars; yvars]\n",
    "    end\n",
    "    if length(zvars)==0\n",
    "        psivars = xvars\n",
    "    else\n",
    "        psivars = [xvars; zvars]\n",
    "    end\n",
    "\n",
    "    # homogenization\n",
    "    for i in length(s1)\n",
    "        model,info1 = add_psatz!(model, h-1,  [phivars; x0], [s1[i]; x0], [1-sum([x0;phivars].^2)], d_relax, QUIET=true, CS=false, TS=false)\n",
    "    end\n",
    "    \n",
    "    for i in length(s2)\n",
    "        model,info2 = add_psatz!(model, -h-1, [psivars; x0], [s2[i]; x0], [1-sum([x0;psivars].^2)], d_relax, QUIET=true, CS=false, TS=false)\n",
    "    end\n",
    "    for i in hc\n",
    "        @constraint(model, -1<=i<=1)\n",
    "    end\n",
    "    # @constraint(model, sum(hc)==1)\n",
    "\n",
    "    optimize!(model)\n",
    "    status = termination_status(model)\n",
    "    if status != MOI.OPTIMAL\n",
    "        println(\"termination status: $status\")\n",
    "        status = primal_status(model)\n",
    "        println(\"solution status: $status\")\n",
    "    end\n",
    "    hc = value.(hc)\n",
    "    for i in 1:length(hc)\n",
    "        if hc[i] <= ϵ && hc[i] >= -ϵ\n",
    "            hc[i] = 0\n",
    "        end\n",
    "    end\n",
    "    return hc'*hb\n",
    "end\n",
    "\n",
    "function interpolation_homo(deg)\n",
    "    # synthesize Craig interpolation using the homogenization formulation\n",
    "    # deg: degree of interpolation template, h(x,y)\n",
    "\n",
    "    model = Model(optimizer_with_attributes(Mosek.Optimizer))\n",
    "    set_optimizer_attribute(model, MOI.Silent(), true)\n",
    "    \n",
    "    h,hc,hb = add_poly!(model, xvars, deg)\n",
    "        \n",
    "    if length(yvars)==0\n",
    "        phivars = xvars\n",
    "    else\n",
    "        phivars = [xvars; yvars]\n",
    "    end\n",
    "\n",
    "    if length(zvars)==0\n",
    "        psivars = xvars\n",
    "    else\n",
    "        psivars = [xvars; zvars]\n",
    "    end\n",
    "\n",
    "    for i in length(s1)\n",
    "        model,info = add_psatz!(model, homogenize(h, x0),  [phivars; x0], [homogenize.(s1[i], x0); x0], [1-sum([x0;phivars].^2)], d_relax, QUIET=true, CS=false, TS=true)\n",
    "    end    \n",
    "    for i in length(s2)\n",
    "        model,info = add_psatz!(model, homogenize(-h, x0), [psivars; x0], [homogenize.(s2[i], x0); x0], [1-sum([x0;psivars].^2)], d_relax, QUIET=true, CS=false, TS=true)\n",
    "    end\n",
    "    for i in hc\n",
    "        @constraint(model, -1<=i<=1)\n",
    "    end\n",
    "    # @constraint(model, sum(hc)==1)\n",
    "\n",
    "    optimize!(model)\n",
    "    status = termination_status(model)\n",
    "    if status != MOI.OPTIMAL\n",
    "        println(\"termination status: $status\")\n",
    "        status = primal_status(model)\n",
    "        println(\"solution status: $status\")\n",
    "    end\n",
    "    hc = value.(hc)      \n",
    "    for i in 1:length(hc)\n",
    "        if hc[i] <= ϵ && hc[i] >= -ϵ\n",
    "            hc[i] = 0\n",
    "        end\n",
    "    end\n",
    "    return hc'*hb\n",
    "end\n"
   ]
  },
  {
   "cell_type": "code",
   "execution_count": 3,
   "id": "bfeecdf3",
   "metadata": {
    "scrolled": true
   },
   "outputs": [
    {
     "data": {
      "text/plain": [
       "run_tssos (generic function with 1 method)"
      ]
     },
     "metadata": {},
     "output_type": "display_data"
    }
   ],
   "source": [
    "# compute interpolation using two methods\n",
    "\n",
    "function run_tssos(name, method1, method2)\n",
    "    include(\"./Benchmarks/\"*name*\".jl\");\n",
    "\n",
    "    # print problem instance (so that Mathematica can read)\n",
    "    file = open(\"./Results/problem/\"*name*\".txt\", \"w\");\n",
    "    write(file, \"{\")\n",
    "    for i = 1:length(xvars) \n",
    "        if i<=length(xvars)-1\n",
    "            write(file, string(xvars[i])*\",\")\n",
    "        else\n",
    "            write(file, string(xvars[i]))\n",
    "        end\n",
    "    end\n",
    "    write(file, \"}\\n\")\n",
    "    write(file, \"{\")\n",
    "    for i = 1:length(yvars) \n",
    "        if i<=length(yvars)-1\n",
    "            write(file, string(yvars[i])*\",\")\n",
    "        else\n",
    "            write(file, string(yvars[i]))\n",
    "        end\n",
    "    end\n",
    "    write(file, \"}\\n\")\n",
    "    write(file, \"{\")\n",
    "    for i = 1:length(zvars) \n",
    "        if i<=length(zvars)-1\n",
    "            write(file, string(zvars[i])*\",\")\n",
    "        else\n",
    "            write(file, string(zvars[i]))\n",
    "        end\n",
    "    end\n",
    "    write(file, \"}\\n\")\n",
    "    for k = [s1, s2]\n",
    "        write(file, \"{\")\n",
    "        for i = 1:length(k)\n",
    "            write(file, \"{\")\n",
    "            for j = 1:length(k[i])\n",
    "                write(file, Base.replace(string(k[i][j]),\"e\"=>\"*10^\"))\n",
    "                if j < length(k[i])\n",
    "                    write(file, \",\") \n",
    "                end\n",
    "            end\n",
    "            write(file, \"}\")\n",
    "            if i < length(k)\n",
    "                write(file, \",\")\n",
    "            end\n",
    "        end\n",
    "        write(file, \"}\\n\")\n",
    "    end\n",
    "    close(file)\n",
    "\n",
    "    # print results based on the method in CAV20\n",
    "    file = open(\"./Results/sufficient/\"*name*\".txt\", \"w\");\n",
    "    stats = @timed h = interpolation(deg)\n",
    "    println(\"using CAV20 technique:\",stats.time)\n",
    "    @show h\n",
    "    write(file, Base.replace(string(h),\"e\"=>\"*10^\")*\"\\n\")\n",
    "    write(file, string(stats.time)*\"\\n\") \n",
    "    close(file)\n",
    "\n",
    "    # print homogenization approach results\n",
    "    file = open(\"./Results/homo/\"*name*\".txt\", \"w\");\n",
    "    stats = @timed h = interpolation_homo(deg)\n",
    "    println(\"using homogenization technique:\",stats.time)\n",
    "    @show h\n",
    "    write(file, Base.replace(string(h),\"e\"=>\"*10^\")*\"\\n\")\n",
    "    write(file, string(stats.time)*\"\\n\") \n",
    "    close(file)\n",
    "end\n"
   ]
  },
  {
   "cell_type": "code",
   "execution_count": 4,
   "metadata": {},
   "outputs": [
    {
     "name": "stdout",
     "output_type": "stream",
     "text": [
      "termination status: SLOW_PROGRESS\n",
      "solution status: UNKNOWN_RESULT_STATUS\n"
     ]
    },
    {
     "name": "stdout",
     "output_type": "stream",
     "text": [
      "using CAV20 technique:12.047120208\n",
      "h = "
     ]
    },
    {
     "name": "stdout",
     "output_type": "stream",
     "text": [
      "-1.0732375156807408x⁷ - 0.7235586921307784x⁵y² - 0.24022979366802558x³y⁴ - 0.047464621834478145xy⁶ - 0.00042456793651887324x⁶ - 0.0003982702179541268x⁴y² - 0.00019263349544961026x²y⁴ - 4.825027603933034e-5y⁶ - 1.0976233023883983x⁵ - 0.8912015574300153x³y² - 0.413733528317591xy⁴ - 0.0017357272620525917x⁴ - 0.001245959916187371x²y² - 0.00041468526227975y⁴ - 1.1099927366392877x³ - 1.0123693707210413xy² - 0.002951806839474202x² - 0.0024306671945464172y² - 1.1150683546960332x - 0.0007254001105072182\n"
     ]
    },
    {
     "name": "stdout",
     "output_type": "stream",
     "text": [
      "using homogenization technique:0.343331459\n",
      "h = -0.7450765450825739x⁷ - 0.41167543904896137x⁵y² - 0.3016854672163968x³y⁴ - 0.16065394488305107xy⁶ - 0.849041096115104x⁵ - 0.5108924323024204x³y² - 0.15084823755846208xy⁴ - 0.8348332132397487x³ - 0.6658634215493677xy² - 0.9364035185386194x\n"
     ]
    }
   ],
   "source": [
    "# methods\n",
    "putinar = true\n",
    "homogenization = true\n",
    "\n",
    "run_tssos(\"ex2\", putinar, homogenization)"
   ]
  }
 ],
 "metadata": {
  "kernelspec": {
   "display_name": "Julia 1.9.4",
   "language": "julia",
   "name": "julia-1.9"
  },
  "language_info": {
   "file_extension": ".jl",
   "mimetype": "application/julia",
   "name": "julia",
   "version": "1.9.4"
  }
 },
 "nbformat": 4,
 "nbformat_minor": 5
}
